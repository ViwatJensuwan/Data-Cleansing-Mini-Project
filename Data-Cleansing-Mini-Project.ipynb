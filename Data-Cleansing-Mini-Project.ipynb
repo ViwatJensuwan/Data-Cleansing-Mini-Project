{
 "cells": [
  {
   "cell_type": "markdown",
   "id": "680a14fb",
   "metadata": {},
   "source": [
    "# การวิเคราะห์ข้อมูลเพื่อเลือกสร้าง Application\n",
    "\n",
    " - **เกี่ยวกับโปรเจค** : โปรเจคนี้เป็นการจำลองสถานการโดยเป็นการจำลองการวิเคราะห์ข้อมูลเพื่อช่วยนักพัฒนา (Developer) ตัดสินใจในการสร้างแอปที่ดึงดูดผู้ใช้จาก Google Play และ App Store\n",
    " - **เกี่ยวกับข้อมูลที่นำมาใช้** : ข้อมูลดิบที่นำมาใช้ในการทำโปรเจคในครั้งนี้ ทั้ง 2 ไฟล์อยู่ในช่วงปี 2019\n",
    " - **ขอบเขตของโปรเจค** : โปรเจคนี้จะสมมติฐานว่ามีเป้าหมายเพื่อสร้างเฉพาะ Appliction ที่ดาวน์โหลดฟรี (รายได้จะได้จากการโฆษณาผ่านทาง Application เป็นหลัก ยิ่งมีคนใช้ Application มากยิงได้รายได้มาก) และภาษาที่ใช้เป็นภาษาอังกฤษเท่านั้น\n",
    " - **ผลลัพธ์ที่คาดหวัง** : สามารถทำการแปลงข้อมูลดิบให้อยู่ในรูปแบบที่สามารถนำไปใช้ในการวิเคราะห์ต่อได้ง่ายขึ้น เพื่อให้นักพัฒนาสามารถตัดสินใจได้ว่าควรสร้าง Application ประเภทไหนที่ดึงดูดให้มีผู้มาใช้งานมากที่สุด"
   ]
  },
  {
   "cell_type": "code",
   "execution_count": null,
   "id": "2dcd955c",
   "metadata": {},
   "outputs": [],
   "source": [
    "from csv import reader"
   ]
  },
  {
   "cell_type": "code",
   "execution_count": null,
   "id": "b3e8f560",
   "metadata": {},
   "outputs": [],
   "source": [
    "# การเปิดไฟล์ Applestore.csv\n",
    "open_appstore = open('AppleStore.csv', encoding='utf8')\n",
    "read_data_appstore = reader(open_appstore)\n",
    "appstore_data = list(read_data_appstore) #ทำให้เป็น list of list เพื่อให้ง่ายต่อการตรวจสอบและวิเคราะห์ข้อมูลในอนาคต\n",
    "open_appstore.close()\n",
    "\n",
    "print(appstore_data[0])    "
   ]
  },
  {
   "cell_type": "code",
   "execution_count": null,
   "id": "d1b0f332",
   "metadata": {},
   "outputs": [],
   "source": [
    "# การเปิดไฟล์ googleplaystore.csv\n",
    "open_googlestore = open('googleplaystore.csv', encoding='utf8')\n",
    "read_data_googlestore = reader(open_googlestore)\n",
    "googlestore_data = list(read_data_googlestore) #ทำให้เป็น list of list เพื่อให้ง่ายต่อการตรวจสอบและวิเคราะห์ข้อมูลในอนาคต\n",
    "open_googlestore.close()\n",
    "\n",
    "print(googlestore_data[0])"
   ]
  },
  {
   "cell_type": "markdown",
   "id": "c82d0b3f",
   "metadata": {},
   "source": [
    "จาก cell ข้างบนจะเห็นได้ไฟล์ **AppleStore.csv** ถูกเก็บไว้ในตัวแปรชื่อ **appstore_data** || ไฟล์ **googleplaystore.csv** ถูกเก็บไว้ในตัวแปรชื่อ **googlestore_data**\n",
    "\n",
    "# การสำรวจข้อมูลในเบื้องต้น\n",
    "ต่อไปจะเป็นการสำรวจข้อมูลโดยทั่วไปในแต่ละไฟล์ ซึ่งจะสร้าง function ขึ้นมาเพื่อใช้ในการนับ\n",
    " - โดยจะสร้าง fuction ที่ใช้ในการสำรวจข้อมูลชื่อว่า : **explore_data**\n",
    " - โดยใน function explore_data จะรับค่า 4 parameters ได้แก่ **dataset**, **start**, **stop** และ **rows_and_columns**\n",
    "     - dataset : จะรับ argument เป็นตัวแปรที่เก็บไฟล์นั้น ๆ ไว้ ซึ่งมี 2 ตัวแปรได้แก่ **appstore_data** และ **googlestore_data**\n",
    "     - start : จะรับ argument เป็น strat index ที่ใช้ในการ slicing ตัว dataset\n",
    "     - stop : จะรับ argument เป็น stop index ที่ใช้ในการ slicing ตัว dataset\n",
    "     - rows_and_columns : จะรับ argument เป็น boolean เพื่อเลือกนอกจากตรวจสอบข้อมูลแล้วให้ทำการนับจำนวน row และ column ด้วยไหม"
   ]
  },
  {
   "cell_type": "code",
   "execution_count": null,
   "id": "ab362f3c",
   "metadata": {},
   "outputs": [],
   "source": [
    "# การสำรวจจำนวน row และ coloumn ในแต่ละไฟล์\n",
    "def explore_data(dataset, start, stop, rows_and_coloumns=False):\n",
    "    for row in dataset[start:stop]:\n",
    "        print(row)\n",
    "        print('\\n') #สาเหตุที่เว้นช่องว่างไว้หนึ่งบรรทัดก็เพื่อให้แต่ละ row อ่านได้ง่าย\n",
    "    if rows_and_coloumns:\n",
    "        print('Number of columns : ', len(dataset[0]))\n",
    "        print('Number of rows : ', len(dataset))\n"
   ]
  },
  {
   "cell_type": "code",
   "execution_count": null,
   "id": "e43ee91b",
   "metadata": {},
   "outputs": [],
   "source": [
    "explore_data(appstore_data, 1,-1,True)"
   ]
  },
  {
   "cell_type": "markdown",
   "id": "e1b142d4",
   "metadata": {},
   "source": [
    "จากการสำรวจข้อมูลในเบื้องต้นโดยใช้ function \"explore_data\" พบว่า\n",
    "- dataset ของ appstore_data มีจำนวน **16 column** และ มีทั้งหมด **7198 row** (ไม่รวม column)\n"
   ]
  },
  {
   "cell_type": "code",
   "execution_count": null,
   "id": "47bddd38",
   "metadata": {},
   "outputs": [],
   "source": [
    "explore_data(googlestore_data, 1,-1,True)"
   ]
  },
  {
   "cell_type": "markdown",
   "id": "fbffe6f3",
   "metadata": {},
   "source": [
    "จากการสำรวจข้อมูลในเบื้องต้นโดยใช้ function \"explore_data\" พบว่า\n",
    "- dataset ของ googlestore_data มีจำนวน **13 column** และ มีทั้งหมด **10842 row** (ไม่รวม column)"
   ]
  },
  {
   "cell_type": "markdown",
   "id": "f19809e6",
   "metadata": {},
   "source": [
    "# การเตรียมข้อมูล (Data Preparing)\n",
    "ก่อนที่จะเริ่มทำการวิเคราะห์ข้อมูลนั้นจะต้องมีการเตรียมข้อมูลโดยเริ่มจากการทำความสะอาดข้อมูล (Data Cleansing) ก่อน เพื่อที่ให้ตรงกับเป้าหมายของการวิเคราะห์ข้อมูลของ Developer โดยมีขั้นตอนโดยรวมดังนี้\n",
    " 1. ตรวจสอบหาข้อมูลที่ขาดหายไป (Missing Value) แล้วทำการลบออก\n",
    " 2. ตรวจสอบหาข้อมูลที่ซ้ำกัน (Duplicate Value) แล้วทำการลบออก\n",
    " 3. ตรวจสอบข้อมูลที่ไม่ใช่ภาษาอังกฤษแล้วทำการลบออก\n",
    " 4. ตรวจสอบหาข้อมูลที่เป็น Application เสียเงินแล้วทำการลบออก\n",
    "\n",
    " "
   ]
  },
  {
   "cell_type": "markdown",
   "id": "0b340f85",
   "metadata": {},
   "source": [
    "#  Google Play Store Platform\n",
    "## 1.1 การสำรวจหาค่า Missing value\n",
    "โดยขั้นตอนเเรกจะเป็นการสำรวจจากแหล่งที่มาของชุดข้อมูลก่อนว่าตัว 'data' มีปัญหาหรือไม่ โดยในที่นี้ตัวข้อมูล googleplaysotre.csv ได้นำมาจากเว็บนี้\n",
    "googleplaystore : [แหล่งดาวน์โหลดชุดข้อมูลดังกล่าว](https://www.kaggle.com/datasets/lava18/google-play-store-apps)\n",
    "---\n",
    "\n",
    "โดยจากการตรวจสอบในแถบของการ Dicussion ตัวข้อมูลชุดนี้พบว่าเจอปัญหาข้อมูลหาย (missing value) ใน index ที่ 10472\n",
    "[จุดที่พบปัญหา](https://www.kaggle.com/datasets/lava18/google-play-store-apps/discussion/66015)"
   ]
  },
  {
   "cell_type": "code",
   "execution_count": null,
   "id": "deda293f",
   "metadata": {},
   "outputs": [],
   "source": [
    "a = googlestore_data[10471:10474]\n",
    "print(a, sep=\"\\n\")\n",
    "print()\n",
    "print(googlestore_data[10473])"
   ]
  },
  {
   "cell_type": "markdown",
   "id": "fb319fff",
   "metadata": {},
   "source": [
    "เมื่อทำการตรวจสอบ จาก cell ด้านบนจะเห็นได้ว่า index ที่ 10473 (รวม index ของหัว column เข้าไปอีก 1) พบว่า **index ที่ 8 ของ list of list (googlestore_data[10473][8])** มีข้อมูลหายไป จากปัญหาที่พบเนื่องจากข้อมูลขาดหายไปเมื่อพิจารณาจนได้ข้อสรุปแล้วมีความเห็นว่าให้ทำการลบข้อมูล row(index) นั้นออกไปทั้ง row\n",
    "\n",
    "**หมายเหตุ** สาเหตุที่เป็น index ที่ 10473 ไม่ใช่ index 10472 เพราะมีความเป็นไปได้ที่ผู้รายงานปัญหาดังกล่าวนั้นอาจทำการแยกหัว column ออกไปก่อนแล้วจึงพบปัญหาใน index ที่ 10472"
   ]
  },
  {
   "cell_type": "code",
   "execution_count": null,
   "id": "5d47ec93",
   "metadata": {},
   "outputs": [],
   "source": [
    "del googlestore_data[10473]"
   ]
  },
  {
   "cell_type": "markdown",
   "id": "f2094e62",
   "metadata": {},
   "source": [
    "อย่างไรก็ตามแม้ว่าจะลบ row ที่มีค่า missing value ออกแล้วตามที่มีคนรายงานปัญหามา แต่เพื่อเป็นการเช็คว่าไม่มี missing value ในข้อมูลชุดนี้จริงๆ จึงได้มีการสร้าง fucntion ในการเช็คขึ้นมาชื่อ **check_missing_value** โดยการทำงานของ fucntion คือ\n",
    " - ให้ป้อนค่า arguement (ไฟล์ที่จะนำมาใช้ เช่น appstore_data, googlestore_data) เข้าไป\n",
    " - ถ้าจำนวนค่าความยาว ของ list of list ที่ index นั้นมีค่าไม่เท่ากับจำนวน list of list ของหัว column (เช่น appstore_data[0]) ให้ทำการ print list นั้นออกมา แล้วระบุด้วยว่า list นั้นอยู่ที่ index (row) ไหนของ appstore_data"
   ]
  },
  {
   "cell_type": "code",
   "execution_count": null,
   "id": "0ca1f240",
   "metadata": {},
   "outputs": [],
   "source": [
    "def check_missing_value(dataset):\n",
    "    for row in dataset:\n",
    "        if len(row) != len(dataset[0]):\n",
    "            print(row)\n",
    "            print(dataset.index(row))\n",
    "            \n",
    "check_missing_value(googlestore_data)"
   ]
  },
  {
   "cell_type": "markdown",
   "id": "25ac6b95",
   "metadata": {},
   "source": [
    "จากการตรวจสอบค่า  missing value เพิ่มเติมไม่พบค่า missing value แล้วดังนั้นจึงดำเนินการในขั้นตอนต่อไป"
   ]
  },
  {
   "cell_type": "markdown",
   "id": "3dd9d30d",
   "metadata": {},
   "source": [
    "## 1.2 การสำรวจหาค่า Duplicate values \n",
    "ต่อไปจะเป็นการหาค่าซ้ำ (Duplicate values) จากชื่อ app (สาเหตุที่เลือกจากชื่อ app เพราะตอนสำรวจข้อมูลในเบื้องต้นด้วย function \"explore_data\" เมื่อดูผลลัพธ์จะเห็นว่ามีแอพที่ชื่อซ้ำกันอยู่หลายตัว) ดังนั้นเพื่อให้สะดวกต่อการเช็คค่าซ้ำในตัวแปร appstore_data ด้วย จึงทำการสร้าง function ตัวใหม่ขึ้นมาชื่อ **check_duplicate_value()** โดยมีการทำงานดังนี้\n",
    " \n",
    " ---\n",
    " - สร้าง list ชื่อ andriod_duplicate_apps และ ios_duplicate_apps สำหรับใช้เก็บค่าซ้ำ\n",
    " - สร้าง list ชื่อ andriod_unique_apps และ ios_unique_apps สำหรับใช้เก็บค่าไม่ซ้ำ\n",
    " - ให้ fucntion check_duplicate_value รับ arguement 2 ตัวคือ 1.ไฟล์ที่จะใช้หาค่าซ้ำ และ 2.ระบุว่าไฟล์ที่หาค่าซ้ำนั้นเป็นไฟล์ของ andriod หรือไม่ ถ้าใช่ (True ไม่ต้องใส่ True ก็ได้ เพราะ default arguement เป็น Ture อยู่แล้ว) ให้เก็บค่าจาก index ที่ 0 ถ้าไม่ใช่ (ให้ใส่ False) ให้เก็บค่าจาก index 1 (เพราะ 2 ไฟล์ชื่อแอปอยู่คนละ index (คนละ column))\n",
    " - ถ้าเจอค่าซ้ำให้เก็บไว้ใน list andriod_duplicate_apps หรือ ios_duplicate_apps\n",
    " - ถ้าไม่เจอค่าซ้ำให้เก็บไว้ใน list andriod_unique_apps หรือ ios_unique_apps"
   ]
  },
  {
   "cell_type": "code",
   "execution_count": null,
   "id": "709853f5",
   "metadata": {},
   "outputs": [],
   "source": [
    "andriod_duplicate_apps = []\n",
    "andriod_unique_apps = []\n",
    "ios_duplicate_apps = []\n",
    "ios_unique_apps = []\n",
    "def check_duplicate_value(dataset, Android=True):\n",
    "    if Android:\n",
    "        for app in dataset:\n",
    "            name = app[0]\n",
    "            if name in andriod_unique_apps:\n",
    "                andriod_duplicate_apps.append(name)\n",
    "            else:\n",
    "                andriod_unique_apps.append(name)\n",
    "    else:\n",
    "        for app in dataset:\n",
    "            name = app[1]\n",
    "            if name in ios_unique_apps:\n",
    "                ios_duplicate_apps.append(name)\n",
    "            else:\n",
    "                ios_unique_apps.append(name)\n",
    "                \n",
    "check_duplicate_value(googlestore_data)\n",
    "print(len(andriod_duplicate_apps), andriod_duplicate_apps, sep='\\n')\n",
    "        "
   ]
  },
  {
   "cell_type": "markdown",
   "id": "5a93e90f",
   "metadata": {},
   "source": [
    "จากการหาค่า duplicate value ในตัวแปร **googlestore_data** พบว่ามีค่าซ้ำกันอยู่จำนวน **1181** ตัว ดังนั้นต่อไปจะเป็นการพิจารณาว่าจะทำการลบค่าซ้ำตัวใดออกไป ซึ่งจะพิจารณาจากความทัน สมัยของ review ใน หัว columnที่ 4 (googlestore_data[0][3]) เพราะยิ่งตัวเลขมากจะหมายถึงข้อมูลนั้นเป็นข้อมูลที่เป็นปัจจุบันมากที่สุด "
   ]
  },
  {
   "cell_type": "code",
   "execution_count": null,
   "id": "28738dcd",
   "metadata": {},
   "outputs": [],
   "source": [
    "max_reviews = {} #ใช้เก็บค่าเฉพาะ app ที่ไม่ซ้ำกันและมีค่า review สูงสุดเท่านั้น\n",
    "for row in googlestore_data[1:]:\n",
    "    name = row[0]\n",
    "    reviews = float(row[3])\n",
    "    if name in max_reviews and max_reviews[name] < reviews: #ถ้าใน dict มี key ที่ซ้ำอยู่แล้ว และ value ของ key นั้นมีค่าที่น้อยกว่า value ปัจจุบันให้ทำการแทนที่ด้วยค่า value ใหม่ที่มีค่ามากว่า\n",
    "        max_reviews[name] = reviews\n",
    "    if name not in max_reviews: #ถ้ายังไม่มี key นั้นอยู่ใน dict ให้เพิ่ม key:value นั้นเข้าไป\n",
    "        max_reviews[name] = reviews\n",
    "        \n",
    "print(len(max_reviews))\n",
    "        "
   ]
  },
  {
   "cell_type": "markdown",
   "id": "b486dc80",
   "metadata": {},
   "source": [
    "จากการลบค่าซ้ำออกพบว่าเหลือค่าอยู่ เพียง **9659 row** ขั้นตอนต่อไปเป็นการเอาค่าที่ได้จากการเก็บไว้ในตัวแปร max_reviews ไปทำ **list of list** ใหม่เพื่อนำไปใช้ในการวิเคราะห์ต่อไป"
   ]
  },
  {
   "cell_type": "code",
   "execution_count": null,
   "id": "c6174239",
   "metadata": {},
   "outputs": [],
   "source": [
    "android_clean = [] #เก็บข้อมูลที่ cleansing แล้ว\n",
    "already_added = [] #เก็บชื่อ apps\n",
    "for row in googlestore_data[1:]:\n",
    "    name = row[0]\n",
    "    reviews = float(row[3])\n",
    "    if reviews == max_reviews[name] and name not in already_added: #ถ้าค่า review ของข้อมูลดิบ (ที่ลบ missing value ออกไปแล้ว) มีค่าที่เท่ากันกับค่า review ที่ผ่านการทำ data cleansing ไปแล้ว\n",
    "        android_clean.append(row) #ให้ใส่ทั้ง row (googlestore_data[index])นั้นลงไปใน list android_clean อีกที\n",
    "        already_added.append(name) #ให้ใส่ชื่อ app ลงไปใน list already_added อีกทีเพื่อเอาไว้เช็คว่ามีอะไรขาดตกหล่นไหม\n",
    "print(len(android_clean))\n",
    "print(android_clean[0:2])\n"
   ]
  },
  {
   "cell_type": "markdown",
   "id": "ab3d3683",
   "metadata": {},
   "source": [
    "จาก cell ด้านบนเมื่อผ่านการลบค่าซ้ำออกไปแล้วจึงได้ทำการเก็บค่าดังกล่าวไว่ในตัวแปรชื่อ **android_clean** เพื่อนำไปใช้ในขั้นตอนต่อไป"
   ]
  },
  {
   "cell_type": "markdown",
   "id": "a366d758",
   "metadata": {},
   "source": [
    "## 1.3 การสำรวจหา Application ที่ไม่ใช่ภาษาอังกฤษ\n",
    "ต่อไปจะเป็นการลบ Application ที่ไม่ได้ใช้ภาษาอังกฤษ **(จะใช้ได้แค่ 0-9, a-z, A-Z, เครื่องหมายพิเศษต่างๆเท่านั้น)** ออกโดยเทคนิคในการลบคือจะใช้รหัส **ASCII** ในการจำแนก โดยภาษาที่ใช้ **จะต้องมีรหัส ASCII อยู่ในช่วง 0-127** โดยจะสร้าง function **remove_none_eng** ขึ้นมาเพื่อใช้ในการตรวจสอบตัวแปร **android_clean** ที่ผ่านการลบค่าซ้ำออกไปแล้วอีกที โดย function ดังกล่าวจะรับค่า parameter เป็นตัวแปร ที่ผ่านการ clean ในขั้นตอนก่อนหน้านั้นก็คือตัวแปร **android_clean** \n",
    "\n",
    "**หมายเหตุ** อย่างไรก็ตามเนื่องจากบาง Application แม้จะมีอักษรพิเศษแปลก ๆ ที่ทำให้ค่า ASCII เกิน 127 แต่ก็มีโอกาสที่แอพนั้นจะเป็นแอพภาษาอังกฤษ เช่น Instachat 😜 เป็นต้น ดังนั้นจึงอนุโลมให้มีรหัส ASCII เกินที่กำหนดแค่ 3 ครั้งเท่านั้นถ้าเกินกว่านั้นจะถือว่า Application นั้นไม่ใช่ภาษาอังกฤษ\n",
    "  \n",
    " ---"
   ]
  },
  {
   "cell_type": "code",
   "execution_count": null,
   "id": "897ec9c0",
   "metadata": {},
   "outputs": [],
   "source": [
    "def remove_none_eng(sample):\n",
    "    count=0\n",
    "    for name in sample:\n",
    "        if ord(name) > 127: #จะใช้ function ord() ในการเปลี่ยนให้ string ตัวนั้นเป็นรหัส ASCII\n",
    "            count += 1\n",
    "    if count > 3: #ถ้าเกินจากที่กำหนดให้เป็น False\n",
    "        return False \n",
    "    else:\n",
    "        return True #ถ้าไม่เกินจากที่กำหนดให้เป็น False\n",
    "\n",
    "remove_none_eng('Instachat 😜')\n",
    "            "
   ]
  },
  {
   "cell_type": "markdown",
   "id": "29009864",
   "metadata": {},
   "source": [
    "ต่อไปเป็นการเรียกใช้ function remove_none_eng ตัวแปร **android_clean** (ที่ผ่านการ cleansing data เรื่อง duplicate value ไปแล้ว) เพื่อหาต่อว่า ใน list นี้มีชื่อที่รหัส ASCII เกิน 127 ตามจำนวนครั้งที่กำหนดหรือไม่ โดยจะนำค่าที่ผ่านการกรองไปเก็บอยู่ในตัวแปรชื่อ **android_eng** แทน"
   ]
  },
  {
   "cell_type": "code",
   "execution_count": null,
   "id": "6026e06a",
   "metadata": {},
   "outputs": [],
   "source": [
    "android_eng = []\n",
    "\n",
    "for app in android_clean: # list ที่ผ่านการ cleansing data ใน cell ก่อนหน้า\n",
    "    name = app[0]\n",
    "    if remove_none_eng(name): #เรียกใช้ function ของ cell ด้านบน ถ้าเป็น True\n",
    "        android_eng.append(app) #ให้เพิ่ม ทั้ง row นั้น(android_clean[index])ใน list android_eng\n",
    "\n",
    "explore_data(android_eng, 0,4,True)\n",
    "\n"
   ]
  },
  {
   "cell_type": "markdown",
   "id": "211eba0f",
   "metadata": {},
   "source": [
    "จากการทำ data cleansing เมือเช็คด้วย function **explore_data** อีกทีจะเห็นได้ว่า จำนวน row เหลืออยู่เพียง **9614 row** จากเดิม **9659 row**"
   ]
  },
  {
   "cell_type": "markdown",
   "id": "f88e509c",
   "metadata": {},
   "source": [
    "## 1.4 การสำรวจหา Application ที่ไม่ฟรี\n",
    "\n",
    "ต่อไปเป็นการนำ Application ที่ไม่ฟรีออกเพราะเนื่องจากตัว dataset ที่ได้มาทั้ง 2 ไฟล์ (googlestore_data และ appstore_data) มีทั้งแบบเสียเงินและไม่เสียเงิน โดยวัดจากราคาใน columnที่ 7 (googlestore_data[0][7])\n",
    "\n",
    "---"
   ]
  },
  {
   "cell_type": "code",
   "execution_count": null,
   "id": "f4aa39a3",
   "metadata": {
    "scrolled": true
   },
   "outputs": [],
   "source": [
    "android_free = []\n",
    "for app in android_eng:\n",
    "    if app[7] == '0': #app[7] = column Price\n",
    "        android_free.append(app)\n",
    "print(len(android_free))"
   ]
  },
  {
   "cell_type": "markdown",
   "id": "8af96b26",
   "metadata": {},
   "source": [
    "จาก cell ข้างบนเป็นการหาว่า application ในแต่ละ row application มีค่าเป็น 0 บ้าง ถ้ามีค่าเป็น 0 ให้เพิ่มทั้ง row นั้นไว้ในตัวแปรชื่อ **android_free** และจากการทำเมื่อเช็คจำนวน row ที่เหลืออยู่พบว่าเหลือเพียง **8864 row** จากนี้ก็จะเป็นการนำข้อมูลดังกล่าวส่งให้ Data Scientist หรือ Data Analyst นำไปใช้ในการวิเคราะห์ต่อไป"
   ]
  },
  {
   "cell_type": "markdown",
   "id": "3e80985d",
   "metadata": {},
   "source": [
    "# Apple Store Platform\n",
    "## 2.1 การสำรวจหาค่า Missing value\n",
    "การหาค่า missing value จะทำเช่นเดียวกับ ของ **googleplaysotre.csv**\n",
    "\n",
    "โดยในที่นี้ตัวข้อมูล AppleStore.csv ได้นำมาจากเว็บนี้\n",
    "AppleStore : [แหล่งดาวน์โหลดชุดข้อมูลดังกล่าว](https://www.kaggle.com/datasets/ramamet4/app-store-apple-data-set-10k-apps)\n",
    "\n",
    "---"
   ]
  },
  {
   "cell_type": "code",
   "execution_count": null,
   "id": "f85e65b7",
   "metadata": {
    "scrolled": true
   },
   "outputs": [],
   "source": [
    "print(appstore_data[0], appstore_data[1], sep=\"\\n\\n\" )\n"
   ]
  },
  {
   "cell_type": "code",
   "execution_count": null,
   "id": "16287db4",
   "metadata": {},
   "outputs": [],
   "source": [
    "check_missing_value(appstore_data)"
   ]
  },
  {
   "cell_type": "markdown",
   "id": "6598da56",
   "metadata": {},
   "source": [
    "อย่างไรก็ตามสำหรับการเช็คค่า missing value ด้วย function **check_missing_value()** ใน **AppleStore.csv** ไม่พบค่า missing value ใดๆ"
   ]
  },
  {
   "cell_type": "markdown",
   "id": "c8aa727e",
   "metadata": {},
   "source": [
    "## 2.2 การสำรวจหาค่า Duplicate values \n",
    "การเช็คค่า duplicate values จะทำคล้ายไฟล์ googleplaysotre.csv ทั้งหมดเพียงเเค่เปลี่ยน index บางตัวเนื่องจากแต่ละ column จัดเรียงไม่เหมือนกัน\n",
    "\n",
    "---"
   ]
  },
  {
   "cell_type": "code",
   "execution_count": null,
   "id": "f2014561",
   "metadata": {},
   "outputs": [],
   "source": [
    "check_duplicate_value(appstore_data, False)\n",
    "print(len(ios_duplicate_apps), ios_duplicate_apps, sep='\\n')"
   ]
  },
  {
   "cell_type": "markdown",
   "id": "1cdb5377",
   "metadata": {},
   "source": [
    "เนื่องจากตอนหาค่าซ้ำโดยเกินในการเลือกมาใช้จะวัดจากความเป็นปัจจุบันของ review แต่เนื่องด้วยข้อมูลแต่ละ dataset มีลักษณะการจัดวาง column ที่ไม่เหมือนกันจึงได้ทำการเลือกเกณฑ์จาก หัว column ที่ index 5 (appstore_data[0][5])"
   ]
  },
  {
   "cell_type": "code",
   "execution_count": null,
   "id": "cdae947d",
   "metadata": {},
   "outputs": [],
   "source": [
    "max_reviews_ios = {} #ใช้เก็บค่าเฉพาะ app ที่ไม่ซ้ำกันและมีค่า review สูงสุดเท่านั้น\n",
    "for row in appstore_data[1:]:\n",
    "    name = row[1]\n",
    "    reviews = float(row[5])\n",
    "    if name in max_reviews_ios and max_reviews_ios[name] < reviews: #ถ้าใน dict มี key ที่ซ้ำอยู่แล้ว และ value ของ key นั้นมีค่าที่น้อยกว่า value ปัจจุบันให้ทำการแทนที่ด้วยค่า value ใหม่ที่มีค่ามากว่า\n",
    "        max_reviews_ios[name] = reviews\n",
    "    if name not in max_reviews_ios: #ถ้ายังไม่มี key นั้นอยู่ใน dict ให้เพิ่ม key:value นั้นเข้าไป\n",
    "        max_reviews_ios[name] = reviews\n",
    "        \n",
    "print(len(max_reviews_ios))"
   ]
  },
  {
   "cell_type": "markdown",
   "id": "6280325e",
   "metadata": {},
   "source": [
    "จากการลบค่าซ้ำออกพบว่าเหลือค่าอยู่ เพียง **7195 row** ขั้นตอนต่อไปเป็นการเอาค่าที่ได้จากการเก็บไว้ในตัวแปร max_reviews ไปทำ **list of list** ใหม่เพื่อนำไปใช้ในการวิเคราะห์ต่อไป"
   ]
  },
  {
   "cell_type": "code",
   "execution_count": null,
   "id": "83fddaaa",
   "metadata": {},
   "outputs": [],
   "source": [
    "ios_clean = [] #เก็บข้อมูลที่ cleansing แล้ว\n",
    "already_added_ios = [] #เก็บชื่อ apps\n",
    "for row in appstore_data[1:]:\n",
    "    name = row[1]\n",
    "    reviews = float(row[5])\n",
    "    if reviews == max_reviews_ios[name] and name not in already_added_ios: #ถ้าค่า review ของข้อมูลดิบ (ที่ลบ missing value ออกไปแล้ว) มีค่าที่เท่ากันกับค่า review ที่ผ่านการทำ data cleansing ไปแล้ว\n",
    "        ios_clean.append(row) #ให้ใส่ทั้ง row (googlestore_data[index])นั้นลงไปใน list android_clean อีกที\n",
    "        already_added_ios.append(name) #ให้ใส่ชื่อ app ลงไปใน list already_added อีกทีเพื่อเอาไว้เช็คว่ามีอะไรขาดตกหล่นไหม\n",
    "print(len(ios_clean))\n",
    "print(ios_clean[0:2])\n"
   ]
  },
  {
   "cell_type": "markdown",
   "id": "a55a3207",
   "metadata": {},
   "source": [
    "จาก cell ด้านบนเมื่อผ่านการลบค่าซ้ำออกไปแล้วจึงได้ทำการเก็บค่าดังกล่าวไว่ในตัวแปรชื่อ **ios_clean** เพื่อนำไปใช้ในขั้นตอนต่อไป"
   ]
  },
  {
   "cell_type": "markdown",
   "id": "c5e3fc1c",
   "metadata": {},
   "source": [
    "## 2.3 การสำรวจหา Application ที่ไม่ใช่ภาษาอังกฤษ\n",
    "ต่อไปเป็นการนำเอาแอพที่ไม่ใช่ภาษาอังกฤษออก\n",
    "\n",
    "---"
   ]
  },
  {
   "cell_type": "code",
   "execution_count": null,
   "id": "986b0077",
   "metadata": {},
   "outputs": [],
   "source": [
    "ios_eng = []\n",
    "\n",
    "for app in ios_clean: # list ที่ผ่านการ cleansing data ใน cell ก่อนหน้า\n",
    "    name = app[1]\n",
    "    if remove_none_eng(name): #เรียกใช้ function ของ cell ด้านบน ถ้าเป็น True\n",
    "        ios_eng.append(app) #ให้เพิ่ม ทั้ง row นั้น(ios_clean[index])ใน list ios_eng\n",
    "\n",
    "explore_data(ios_eng, 0,3, True)\n",
    "\n"
   ]
  },
  {
   "cell_type": "markdown",
   "id": "41371d22",
   "metadata": {},
   "source": [
    "จากการทำ data cleansing เมือเช็คด้วย function **explore_data** อีกทีจะเห็นได้ว่า จำนวน row เหลืออยู่เพียง **6181 row** จากเดิม **7195 row**"
   ]
  },
  {
   "cell_type": "markdown",
   "id": "b3b359f9",
   "metadata": {},
   "source": [
    "## 2.4 การสำรวจหา Application ที่ไม่ฟรี\n",
    "ต่อไปเป็นการเอาแอปที่ไม่ได้ฟรีออก (วัดจากราคาใน column 5 (appstore_data[0][4])\n",
    "\n",
    "---"
   ]
  },
  {
   "cell_type": "code",
   "execution_count": null,
   "id": "0a738456",
   "metadata": {},
   "outputs": [],
   "source": [
    "ios_free = []\n",
    "for app in ios_eng:\n",
    "    if app[4] == '0.0':\n",
    "        ios_free.append(app)\n",
    "print(len(ios_free))"
   ]
  },
  {
   "cell_type": "markdown",
   "id": "d38ca1cb",
   "metadata": {},
   "source": [
    "จาก cell ข้างบนเป็นการหาว่า application ในแต่ละ row application มีค่าเป็น 0.0 บ้าง ถ้ามีค่าเป็น 0.0 ให้เพิ่มทั้ง row นั้นไว้ในตัวแปรชื่อ **ios_free** และจากการทำเมื่อเช็คจำนวน row ที่เหลืออยู่พบว่าเหลือเพียง **3220 row** "
   ]
  },
  {
   "cell_type": "markdown",
   "id": "5ca8d57a",
   "metadata": {},
   "source": [
    "**จากนี้ก็จะเป็นการส่งข้อมูลดังกล่าวให้ทาง Data Scientist หรือ Data Analyst นำไปใช้ในการวิเคราะห์ในขั้นตอนต่อไป**"
   ]
  },
  {
   "cell_type": "markdown",
   "id": "0a312d76",
   "metadata": {},
   "source": [
    "---\n",
    "# การวิเคราะห์ข้อมูล (เสริม)\n",
    "ต่อไปจะเป็นการหาประเภทของ Applicaiton ที่ได้รับความนิยมมากที่สุดของ Google Play Store Platform และ Apple Store Platform (เพราะถ้าสร้าง Application ที่คนนิยมใช้มาก รายได้จากช่องทางการโฆษณาก็จะยิ่งมาก) โดยเราจะใช้ Category และ Genres ใน dataset ของ Google Play Store Platform และ prime_genre ใน dataset ของ Apple Store Platform ในการหาความถี่ที่เกิดขึ้นว่าในตัวข้อมูลมี Applicaiton Category,  Genres และ prime_genre เกิดขึ้นมากที่สุดแล้วแปลงให้กลายเป็นสัดส่วนเพื่อดูว่าประเภทไหนที่ได้รับความนิยมมากที่สุด"
   ]
  },
  {
   "cell_type": "code",
   "execution_count": null,
   "id": "983f2edc",
   "metadata": {},
   "outputs": [],
   "source": [
    "def freq_table(dataset, index):\n",
    "    android_freq = {}\n",
    "    android_count = 0\n",
    "    for row in dataset:\n",
    "        android_count += 1\n",
    "        genre = row[index]\n",
    "        if genre in android_freq:\n",
    "            android_freq[genre] += 1\n",
    "        else:\n",
    "            android_freq[genre] = 1\n",
    "            \n",
    "    android_percent = {}\n",
    "    for row in android_freq:\n",
    "        percent = (android_freq[row]/android_count) * 100\n",
    "        android_percent[row] = percent\n",
    "    \n",
    "    return android_percent\n",
    "#เพื่อที่จะเรียงสัดส่วนประเภทของ Application ที่ได้รับความนิยมให้อ่านง่ายจะต้องทำการแปลงให้อยู่ในรูปของ tuple เพื่อทำการจัดลำกับใหม่โดยเรียงจากมากไปน้อย\n",
    "def display_table(dataset, index):\n",
    "    table = freq_table(dataset, index)\n",
    "    table_display = []\n",
    "    for key in table:\n",
    "        key_val_as_tuple = (table[key], key)\n",
    "        table_display.append(key_val_as_tuple)\n",
    "\n",
    "    table_sorted = sorted(table_display, reverse = True)\n",
    "    for entry in table_sorted:\n",
    "        print(entry[1], ':', entry[0])"
   ]
  },
  {
   "cell_type": "code",
   "execution_count": null,
   "id": "3b0f9725",
   "metadata": {},
   "outputs": [],
   "source": [
    "#Google Play\n",
    "display_table(android_free, 1) #Category\n",
    "print('\\n')\n",
    "display_table(android_free, -4) #Genres"
   ]
  },
  {
   "cell_type": "markdown",
   "id": "7f1855de",
   "metadata": {},
   "source": [
    "จากการเตรียมข้อมูลที่ผ่านการกรองข้อมูลทั้งค่า Missing value, Duplicate value ให้เหลือเฉพาะ Application ภาษาอังกฤษที่เป็น Application ฟรีแล้วพบว่า\n",
    "### ผลการวิเคราะห์ของ Google Play Store Platform\n",
    "- ผลลัพธ์จากการวิเคราะห์แสดงให้เห็นว่าใน **Category** ที่ได้รับความนิยมมากที่สุด 3 อันดับแรกมีดังนี้ หมวด **FAMILY** คิดเป็นร้อยละ **18.9** รองลงมาคือ **GAME** คิดเป็นร้อยละ **9.72** และ **TOOLS** คิดเป็นร้อยละ **8.46** ตามลำดับ\n",
    "- ผลลัพธ์จากการวิเคราะห์แสดงให้เห็นว่าใน **Genres** ที่ได้รับความนิยมมากที่สุด 3 อันดับแรกมีดังนี้ หมวด **Tools** คิดเป็นร้อยละ **8.44** รองลงมาคือ **Entertainment** คิดเป็นร้อยละ **6.06** และ **Education** คิดเป็นร้อยละ **5.34** ตามลำดับ\n",
    "\n",
    "**หมายเหตุ** ความแตกต่างระหว่าง Category กับ Genres ไม่อาจสามารถบอกได้ว่าควรยึดถือจากเกณฑ์ไหนเป็นตัววัด แต่สิ่งที่เห็นได้คือ Genres นั้นมีลักษณะที่กว้างกว่า Category มากซึ่งทำให้ยากต่อการตัดสินใจ (เป็นเรื่องที่ต้องมีการวางแผนในระดับนึง) แต่เพื่อให้ตัดสินใจได้ง่ายโปรเจคนี้เลยเลือกจาก Category เป็นหลัก\n"
   ]
  },
  {
   "cell_type": "code",
   "execution_count": null,
   "id": "1b5b4174",
   "metadata": {},
   "outputs": [],
   "source": [
    "#Apple Store\n",
    "display_table(ios_free, -5) #prime_genre"
   ]
  },
  {
   "cell_type": "markdown",
   "id": "7a0aa0f2",
   "metadata": {},
   "source": [
    "\n",
    "### ผลการวิเคราะห์ของ Apple Store Platform\n",
    "- ผลลัพธ์จากการวิเคราะห์แสดงให้เห็นว่าใน **prime_genre** ที่ได้รับความนิยมมากที่สุด 3 อันดับแรกมีดังนี้ หมวด **Games** คิดเป็นร้อยละ **58.13** รองลงมาคือ **Entertainment** คิดเป็นร้อยละ **7.88** และ **Photo & Video** คิดเป็นร้อยละ **4.96** ตามลำดับ\n",
    "\n",
    "สังเกตได้ว่าสำหรับ Apple Store Platform Application ประเภท Games จะได้รับความนิยมมากที่สุดซึ่งเกินครึ่งของทุก genre (ที่ฟรีและแอปเป็นภาษาอังกฤษ) ในขณะที่ Google Play Store Platform นั้นเฉลี่ยๆพอๆกัน "
   ]
  },
  {
   "cell_type": "markdown",
   "id": "bb37814a",
   "metadata": {},
   "source": [
    "## สรุป \n",
    "จากการวิเคราะห์ทำให้เห็นว่าความนิยมของประเภท Appliction ในแต่ละ platform ไม่เป็นไปในทิศทางเดียวกัน ดังนั้นทางเดียวที่จะรู้ว่า genre ไหนได้รับความนิยมมากที่สุดควรดูจาก**ยอดดาวน์โหลด** "
   ]
  }
 ],
 "metadata": {
  "kernelspec": {
   "display_name": "Python 3 (ipykernel)",
   "language": "python",
   "name": "python3"
  },
  "language_info": {
   "codemirror_mode": {
    "name": "ipython",
    "version": 3
   },
   "file_extension": ".py",
   "mimetype": "text/x-python",
   "name": "python",
   "nbconvert_exporter": "python",
   "pygments_lexer": "ipython3",
   "version": "3.10.7"
  }
 },
 "nbformat": 4,
 "nbformat_minor": 5
}
